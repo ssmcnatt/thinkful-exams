{
 "cells": [
  {
   "cell_type": "code",
   "execution_count": null,
   "metadata": {},
   "outputs": [],
   "source": [
    "# 1) Create a function that reverses a string. For example, given the string \"forward\", \n",
    "# your function should return \"drawrof\". Assume all inputs are strings.\n",
    "\n",
    "\n",
    "\n",
    "\n",
    "\n"
   ]
  },
  {
   "cell_type": "code",
   "execution_count": null,
   "metadata": {},
   "outputs": [],
   "source": [
    "# 2) Complete the function below that can be used to calculate and return the posterior \n",
    "# probability of an event A, given the known outcome of Event B using Bayes Theorem:\n",
    "    \n",
    "# # def bayes(a, b_given_a, b_given_not_a):\n",
    "\n",
    "#     \"\"\"\n",
    "#     Calculates P(A | B) using bayes theorem.\n",
    "\n",
    "#     Args:\n",
    "#         a: P(A)\n",
    "#         b_given_a: P(B | A)\n",
    "#         b_given_not_a: P(B | ~A)\n",
    "\n",
    "#     Returns:\n",
    "#         P(A | B)\n",
    "#     \"\"\"\n",
    "\n",
    "# YOUR CODE GOES HERE"
   ]
  },
  {
   "cell_type": "code",
   "execution_count": null,
   "metadata": {},
   "outputs": [],
   "source": [
    "# 3) Analyze the teams dataset from the Lahman baseball records. This dataset contains \n",
    "# season statistics for each Major League Baseball team.\n",
    "\n",
    "# a. For all records since 1995, plot histograms for the following variables. Which \n",
    "# distribution do they appear to follow? Consider what each variable is measuring along with the \n",
    "# histogram's shape.\n",
    "\n",
    "# - Stolen bases per game\n",
    "# - Wins\n",
    "# - Earned run average\n",
    "\n",
    "# b. Conduct some further exploratory data analysis on this dataset. Consider \n",
    "# qualities like distributions, correlations and trends over time. Try to find \n",
    "# something interesting to say about the data, and use visualizations to support your argument."
   ]
  },
  {
   "cell_type": "code",
   "execution_count": null,
   "metadata": {},
   "outputs": [],
   "source": [
    "# 4) Choose any two of the variables from 3. Draw 1,000 samples, taking the mean of 100 observations \n",
    "# each time. Plot the frequencies of the sample means. What distribution does this appear to follow?\n",
    "# Hint: df['col'].sample(n=50) will draw 50 random observations from df['col']."
   ]
  }
 ],
 "metadata": {
  "kernelspec": {
   "display_name": "Python 3",
   "language": "python",
   "name": "python3"
  },
  "language_info": {
   "codemirror_mode": {
    "name": "ipython",
    "version": 3
   },
   "file_extension": ".py",
   "mimetype": "text/x-python",
   "name": "python",
   "nbconvert_exporter": "python",
   "pygments_lexer": "ipython3",
   "version": "3.7.6"
  }
 },
 "nbformat": 4,
 "nbformat_minor": 4
}
